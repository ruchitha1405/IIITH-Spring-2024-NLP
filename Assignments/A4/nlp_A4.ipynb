{
  "cells": [
    {
      "cell_type": "code",
      "execution_count": null,
      "metadata": {
        "_cell_guid": "b1076dfc-b9ad-4769-8c92-a6c4dae69d19",
        "_uuid": "8f2839f25d086af736a60e9eeb907d3b93b6e0e5",
        "execution": {
          "iopub.execute_input": "2024-04-20T13:24:12.873784Z",
          "iopub.status.busy": "2024-04-20T13:24:12.873419Z",
          "iopub.status.idle": "2024-04-20T13:24:17.107884Z",
          "shell.execute_reply": "2024-04-20T13:24:17.107050Z",
          "shell.execute_reply.started": "2024-04-20T13:24:12.873755Z"
        },
        "id": "7GTrZB53x3jf",
        "trusted": true
      },
      "outputs": [],
      "source": [
        "import torch\n",
        "import torch.nn as nn\n",
        "import pandas as pd\n",
        "import string\n",
        "import pickle\n",
        "import torch.nn.utils.rnn as padfunc\n",
        "from torch.utils.data import Dataset, DataLoader\n",
        "from tqdm import tqdm"
      ]
    },
    {
      "cell_type": "code",
      "execution_count": null,
      "metadata": {
        "execution": {
          "iopub.execute_input": "2024-04-20T13:24:17.110078Z",
          "iopub.status.busy": "2024-04-20T13:24:17.109679Z",
          "iopub.status.idle": "2024-04-20T13:24:17.705663Z",
          "shell.execute_reply": "2024-04-20T13:24:17.704709Z",
          "shell.execute_reply.started": "2024-04-20T13:24:17.110052Z"
        },
        "id": "JLl7I2Q-x3jg",
        "trusted": true
      },
      "outputs": [],
      "source": [
        "df = pd.read_csv(\"/kaggle/input/mydataset/train.csv\")\n",
        "corpus = df[\"Description\"]\n",
        "\n",
        "class MyDataset(Dataset):\n",
        "    def __init__(self, embeddings, labels):\n",
        "        self.embeddings = embeddings\n",
        "        self.labels = labels\n",
        "    def __len__(self):\n",
        "        return len(self.embeddings)\n",
        "    def __getitem__(self, index):\n",
        "        return self.embeddings[index], self.labels[index]"
      ]
    },
    {
      "cell_type": "code",
      "execution_count": null,
      "metadata": {
        "execution": {
          "iopub.execute_input": "2024-04-20T13:24:17.707939Z",
          "iopub.status.busy": "2024-04-20T13:24:17.707179Z",
          "iopub.status.idle": "2024-04-20T13:24:21.320438Z",
          "shell.execute_reply": "2024-04-20T13:24:21.319677Z",
          "shell.execute_reply.started": "2024-04-20T13:24:17.707904Z"
        },
        "id": "FK0NXQ4Xx3jh",
        "trusted": true
      },
      "outputs": [],
      "source": [
        "processed_sent = []\n",
        "unq_words = {}\n",
        "translation_table = str.maketrans('', '', string.punctuation)\n",
        "for sent in corpus:\n",
        "    sent = sent.replace('-', ' ').replace('\\\\', ' ')\n",
        "    sent = sent.translate(translation_table)\n",
        "    sent = sent.split()\n",
        "    sent = [word.lower() for word in sent if word.isalpha()]\n",
        "    sent = ['<sos>'] + sent + ['<eos>']\n",
        "    processed_sent.append(sent)\n",
        "    for word in sent:\n",
        "        unq_words[word] = unq_words.get(word, 0) + 1\n",
        "\n",
        "vocab = []\n",
        "for key, value in unq_words.items():\n",
        "    if value >= 10:\n",
        "        vocab.append(key)\n",
        "\n",
        "vocab.extend(['<unk>'])\n",
        "vocab = list(set(vocab))\n",
        "word2idx = {word: idx + 1 for idx, word in enumerate(vocab)}"
      ]
    },
    {
      "cell_type": "code",
      "execution_count": null,
      "metadata": {
        "execution": {
          "iopub.execute_input": "2024-04-18T14:36:06.066887Z",
          "iopub.status.busy": "2024-04-18T14:36:06.066352Z",
          "iopub.status.idle": "2024-04-18T14:36:06.083470Z",
          "shell.execute_reply": "2024-04-18T14:36:06.082186Z",
          "shell.execute_reply.started": "2024-04-18T14:36:06.066842Z"
        },
        "id": "quIHPHfTx3jh",
        "trusted": true
      },
      "outputs": [],
      "source": [
        "class ForwardLM(nn.Module):\n",
        "    def __init__(self, vocab_size, embedding_dim, hidden_dim, dropout_prob):\n",
        "        super(ForwardLM, self).__init__()\n",
        "        self.vocab_size = vocab_size\n",
        "        self.embed_dim = embedding_dim\n",
        "        self.hidden_dim = hidden_dim\n",
        "        self.dropout = nn.Dropout(dropout_prob)\n",
        "\n",
        "        self.embed_layer = nn.Embedding(vocab_size, embedding_dim)\n",
        "        self.layer1 = nn.LSTM(embedding_dim, hidden_dim, batch_first = True)\n",
        "        self.layer2 = nn.LSTM(hidden_dim, hidden_dim, batch_first = True)\n",
        "        self.fc = nn.Linear(hidden_dim, vocab_size)\n",
        "\n",
        "    def forward(self, x):\n",
        "        embed = self.embed_layer(x)\n",
        "        lstm1, _ = self.layer1(embed)\n",
        "        lstm1 = self.dropout(lstm1)\n",
        "        lstm2, _ = self.layer2(lstm1)\n",
        "        lstm2 = self.dropout(lstm2)\n",
        "        output = self.fc(lstm2)\n",
        "        return output, lstm1, lstm2, embed\n",
        "\n",
        "\n",
        "class BackwardLM(nn.Module):\n",
        "    def __init__(self, vocab_size, embedding_dim, hidden_dim, dropout_prob):\n",
        "        super(BackwardLM, self).__init__()\n",
        "        self.vocab_size = vocab_size\n",
        "        self.embed_dim = embedding_dim\n",
        "        self.hidden_dim = hidden_dim\n",
        "        self.dropout = nn.Dropout(dropout_prob)\n",
        "\n",
        "        self.embed_layer = nn.Embedding(vocab_size, embedding_dim)\n",
        "        self.layer1 = nn.LSTM(embedding_dim, hidden_dim, batch_first = True)\n",
        "        self.layer2 = nn.LSTM(hidden_dim, hidden_dim, batch_first = True)\n",
        "        self.fc = nn.Linear(hidden_dim, vocab_size)\n",
        "\n",
        "    def forward(self, x):\n",
        "        embed = self.embed_layer(x)\n",
        "        lstm1, _ = self.layer1(embed)\n",
        "        lstm1 = self.dropout(lstm1)\n",
        "        lstm2, _ = self.layer2(lstm1)\n",
        "        lstm2 = self.dropout(lstm2)\n",
        "        output = self.fc(lstm2)\n",
        "        return output, lstm1, lstm2, embed"
      ]
    },
    {
      "cell_type": "code",
      "execution_count": null,
      "metadata": {
        "execution": {
          "iopub.execute_input": "2024-04-18T14:36:07.433033Z",
          "iopub.status.busy": "2024-04-18T14:36:07.432611Z",
          "iopub.status.idle": "2024-04-18T14:36:13.958969Z",
          "shell.execute_reply": "2024-04-18T14:36:13.957738Z",
          "shell.execute_reply.started": "2024-04-18T14:36:07.433000Z"
        },
        "id": "Jbmokstux3jh",
        "trusted": true
      },
      "outputs": [],
      "source": [
        "inputs, outputs = [], []\n",
        "\n",
        "for sent in processed_sent:\n",
        "    sent = [word2idx.get(word, word2idx['<unk>']) for word in sent]\n",
        "    inputs.append(torch.tensor(sent[:-1]))\n",
        "    outputs.append(torch.tensor(sent[1:]))"
      ]
    },
    {
      "cell_type": "markdown",
      "metadata": {
        "id": "WoJRXieCx3ji"
      },
      "source": [
        "## Forward LM"
      ]
    },
    {
      "cell_type": "code",
      "execution_count": null,
      "metadata": {
        "execution": {
          "iopub.execute_input": "2024-04-18T11:06:11.759959Z",
          "iopub.status.busy": "2024-04-18T11:06:11.759665Z",
          "iopub.status.idle": "2024-04-18T11:06:12.868192Z",
          "shell.execute_reply": "2024-04-18T11:06:12.867365Z",
          "shell.execute_reply.started": "2024-04-18T11:06:11.759935Z"
        },
        "id": "n8OaqLFEx3ji",
        "trusted": true
      },
      "outputs": [],
      "source": [
        "pad_inputs, pad_outputs = padfunc.pad_sequence(inputs, batch_first=True), padfunc.pad_sequence(outputs, batch_first=True)"
      ]
    },
    {
      "cell_type": "code",
      "execution_count": null,
      "metadata": {
        "execution": {
          "iopub.execute_input": "2024-04-18T11:06:14.877778Z",
          "iopub.status.busy": "2024-04-18T11:06:14.876904Z",
          "iopub.status.idle": "2024-04-18T11:06:14.911408Z",
          "shell.execute_reply": "2024-04-18T11:06:14.910095Z",
          "shell.execute_reply.started": "2024-04-18T11:06:14.877740Z"
        },
        "id": "XK-pEvcTx3ji",
        "outputId": "eab32f12-1fe4-48ac-fe4c-20038ad06f1d",
        "trusted": true
      },
      "outputs": [
        {
          "name": "stdout",
          "output_type": "stream",
          "text": [
            "Using cuda device\n"
          ]
        }
      ],
      "source": [
        "device = \"cuda\" if torch.cuda.is_available() else \"cpu\"\n",
        "print(f\"Using {device} device\")"
      ]
    },
    {
      "cell_type": "code",
      "execution_count": null,
      "metadata": {
        "execution": {
          "iopub.execute_input": "2024-04-18T11:06:15.133121Z",
          "iopub.status.busy": "2024-04-18T11:06:15.132821Z",
          "iopub.status.idle": "2024-04-18T11:06:17.905028Z",
          "shell.execute_reply": "2024-04-18T11:06:17.904240Z",
          "shell.execute_reply.started": "2024-04-18T11:06:15.133095Z"
        },
        "id": "uArdnu7Vx3jj",
        "trusted": true
      },
      "outputs": [],
      "source": [
        "num_epochs = 10\n",
        "learning_rate = 0.001\n",
        "batch_size = 256\n",
        "\n",
        "model = ForwardLM(len(vocab) + 1, 300, 300, 0.5)\n",
        "criterion = nn.CrossEntropyLoss()\n",
        "optimizer = torch.optim.Adam(model.parameters(), lr = learning_rate)\n",
        "model = model.to(device)"
      ]
    },
    {
      "cell_type": "code",
      "execution_count": null,
      "metadata": {
        "execution": {
          "iopub.execute_input": "2024-04-18T11:06:25.066082Z",
          "iopub.status.busy": "2024-04-18T11:06:25.065066Z",
          "iopub.status.idle": "2024-04-18T11:06:25.070387Z",
          "shell.execute_reply": "2024-04-18T11:06:25.069553Z",
          "shell.execute_reply.started": "2024-04-18T11:06:25.066045Z"
        },
        "id": "4DJ7w2Lbx3jj",
        "trusted": true
      },
      "outputs": [],
      "source": [
        "train_loader = DataLoader(dataset=MyDataset(pad_inputs, pad_outputs), batch_size=batch_size, shuffle=True)"
      ]
    },
    {
      "cell_type": "code",
      "execution_count": null,
      "metadata": {
        "execution": {
          "iopub.execute_input": "2024-04-18T11:06:33.003787Z",
          "iopub.status.busy": "2024-04-18T11:06:33.003434Z",
          "iopub.status.idle": "2024-04-18T11:35:23.520422Z",
          "shell.execute_reply": "2024-04-18T11:35:23.519503Z",
          "shell.execute_reply.started": "2024-04-18T11:06:33.003757Z"
        },
        "id": "d1RIMF-Wx3jj",
        "outputId": "36c2e8cd-03d9-4ee3-f6ab-8d1b51e42fbc",
        "trusted": true
      },
      "outputs": [
        {
          "name": "stderr",
          "output_type": "stream",
          "text": [
            "Training: 100%|██████████| 469/469 [02:53<00:00,  2.71it/s]\n"
          ]
        },
        {
          "name": "stdout",
          "output_type": "stream",
          "text": [
            "Epoch 1/10: Train Loss: 1.3881\n"
          ]
        },
        {
          "name": "stderr",
          "output_type": "stream",
          "text": [
            "Training: 100%|██████████| 469/469 [02:52<00:00,  2.72it/s]\n"
          ]
        },
        {
          "name": "stdout",
          "output_type": "stream",
          "text": [
            "Epoch 2/10: Train Loss: 1.1385\n"
          ]
        },
        {
          "name": "stderr",
          "output_type": "stream",
          "text": [
            "Training: 100%|██████████| 469/469 [02:53<00:00,  2.71it/s]\n"
          ]
        },
        {
          "name": "stdout",
          "output_type": "stream",
          "text": [
            "Epoch 3/10: Train Loss: 1.0637\n"
          ]
        },
        {
          "name": "stderr",
          "output_type": "stream",
          "text": [
            "Training: 100%|██████████| 469/469 [02:53<00:00,  2.71it/s]\n"
          ]
        },
        {
          "name": "stdout",
          "output_type": "stream",
          "text": [
            "Epoch 4/10: Train Loss: 1.0167\n"
          ]
        },
        {
          "name": "stderr",
          "output_type": "stream",
          "text": [
            "Training: 100%|██████████| 469/469 [02:52<00:00,  2.71it/s]\n"
          ]
        },
        {
          "name": "stdout",
          "output_type": "stream",
          "text": [
            "Epoch 5/10: Train Loss: 0.9851\n"
          ]
        },
        {
          "name": "stderr",
          "output_type": "stream",
          "text": [
            "Training: 100%|██████████| 469/469 [02:53<00:00,  2.71it/s]\n"
          ]
        },
        {
          "name": "stdout",
          "output_type": "stream",
          "text": [
            "Epoch 6/10: Train Loss: 0.9615\n"
          ]
        },
        {
          "name": "stderr",
          "output_type": "stream",
          "text": [
            "Training: 100%|██████████| 469/469 [02:53<00:00,  2.71it/s]\n"
          ]
        },
        {
          "name": "stdout",
          "output_type": "stream",
          "text": [
            "Epoch 7/10: Train Loss: 0.9425\n"
          ]
        },
        {
          "name": "stderr",
          "output_type": "stream",
          "text": [
            "Training: 100%|██████████| 469/469 [02:53<00:00,  2.70it/s]\n"
          ]
        },
        {
          "name": "stdout",
          "output_type": "stream",
          "text": [
            "Epoch 8/10: Train Loss: 0.9267\n"
          ]
        },
        {
          "name": "stderr",
          "output_type": "stream",
          "text": [
            "Training: 100%|██████████| 469/469 [02:52<00:00,  2.71it/s]\n"
          ]
        },
        {
          "name": "stdout",
          "output_type": "stream",
          "text": [
            "Epoch 9/10: Train Loss: 0.9135\n"
          ]
        },
        {
          "name": "stderr",
          "output_type": "stream",
          "text": [
            "Training: 100%|██████████| 469/469 [02:52<00:00,  2.71it/s]"
          ]
        },
        {
          "name": "stdout",
          "output_type": "stream",
          "text": [
            "Epoch 10/10: Train Loss: 0.9022\n"
          ]
        },
        {
          "name": "stderr",
          "output_type": "stream",
          "text": [
            "\n"
          ]
        }
      ],
      "source": [
        "model.train()\n",
        "for epoch in range(num_epochs):\n",
        "    running_loss = 0.0\n",
        "    for batch_input, batch_output in tqdm(train_loader, total = len(train_loader), desc=\"Training\"):\n",
        "        batch_input, batch_output = batch_input.to(device), batch_output.to(device)\n",
        "        optimizer.zero_grad()\n",
        "        output = model(batch_input)\n",
        "        output_flat = output[0].view(-1, output[0].size(-1))\n",
        "        target_flat = batch_output.view(-1)\n",
        "        loss = criterion(output_flat, target_flat)\n",
        "        loss.backward()\n",
        "        optimizer.step()\n",
        "        running_loss += loss.item() * batch_input.size(0)\n",
        "    epoch_train_loss = running_loss / len(train_loader.dataset)\n",
        "    print(f\"Epoch {epoch + 1}/{num_epochs}: Train Loss: {epoch_train_loss:.4f}\")\n",
        "\n",
        "\n",
        "model_path = '/kaggle/working/forward1.pt'\n",
        "torch.save(model.state_dict(), model_path)\n"
      ]
    },
    {
      "cell_type": "markdown",
      "metadata": {
        "id": "n_fdU9HHx3jj"
      },
      "source": [
        "## Backward LM"
      ]
    },
    {
      "cell_type": "code",
      "execution_count": null,
      "metadata": {
        "execution": {
          "iopub.execute_input": "2024-04-18T14:36:34.490162Z",
          "iopub.status.busy": "2024-04-18T14:36:34.489711Z",
          "iopub.status.idle": "2024-04-18T14:36:36.069627Z",
          "shell.execute_reply": "2024-04-18T14:36:36.068356Z",
          "shell.execute_reply.started": "2024-04-18T14:36:34.490128Z"
        },
        "id": "-d_SMuDXx3jj",
        "trusted": true
      },
      "outputs": [],
      "source": [
        "rev_outputs = [torch.flip(inp, [0]) for inp in inputs]\n",
        "rev_inputs = [torch.flip(oup, [0]) for oup in outputs]"
      ]
    },
    {
      "cell_type": "code",
      "execution_count": null,
      "metadata": {
        "execution": {
          "iopub.execute_input": "2024-04-18T11:40:26.141780Z",
          "iopub.status.busy": "2024-04-18T11:40:26.141402Z",
          "iopub.status.idle": "2024-04-18T11:40:27.175823Z",
          "shell.execute_reply": "2024-04-18T11:40:27.174769Z",
          "shell.execute_reply.started": "2024-04-18T11:40:26.141751Z"
        },
        "id": "bb_7vB92x3jk",
        "trusted": true
      },
      "outputs": [],
      "source": [
        "b_pad_inputs, b_pad_outputs = padfunc.pad_sequence(rev_inputs, batch_first=True), padfunc.pad_sequence(rev_outputs, batch_first=True)"
      ]
    },
    {
      "cell_type": "code",
      "execution_count": null,
      "metadata": {
        "execution": {
          "iopub.execute_input": "2024-04-18T11:40:27.177839Z",
          "iopub.status.busy": "2024-04-18T11:40:27.177488Z",
          "iopub.status.idle": "2024-04-18T11:40:27.212454Z",
          "shell.execute_reply": "2024-04-18T11:40:27.211451Z",
          "shell.execute_reply.started": "2024-04-18T11:40:27.177813Z"
        },
        "id": "UlDcDH-Bx3jk",
        "outputId": "1dd56805-c623-450d-e17a-05ea420feda3",
        "trusted": true
      },
      "outputs": [
        {
          "name": "stdout",
          "output_type": "stream",
          "text": [
            "Using cuda device\n"
          ]
        }
      ],
      "source": [
        "device = \"cuda\" if torch.cuda.is_available() else \"cpu\"\n",
        "print(f\"Using {device} device\")"
      ]
    },
    {
      "cell_type": "code",
      "execution_count": null,
      "metadata": {
        "execution": {
          "iopub.execute_input": "2024-04-18T11:40:29.760339Z",
          "iopub.status.busy": "2024-04-18T11:40:29.759574Z",
          "iopub.status.idle": "2024-04-18T11:40:32.294238Z",
          "shell.execute_reply": "2024-04-18T11:40:32.293192Z",
          "shell.execute_reply.started": "2024-04-18T11:40:29.760307Z"
        },
        "id": "tUOO0c35x3jk",
        "trusted": true
      },
      "outputs": [],
      "source": [
        "num_epochs = 10\n",
        "learning_rate = 0.001\n",
        "batch_size = 256\n",
        "\n",
        "model = BackwardLM(len(vocab) + 1, 300, 300, 0.5)\n",
        "criterion = nn.CrossEntropyLoss()\n",
        "optimizer = torch.optim.Adam(model.parameters(), lr = learning_rate)\n",
        "model = model.to(device)"
      ]
    },
    {
      "cell_type": "code",
      "execution_count": null,
      "metadata": {
        "execution": {
          "iopub.execute_input": "2024-04-18T11:40:46.660691Z",
          "iopub.status.busy": "2024-04-18T11:40:46.659665Z",
          "iopub.status.idle": "2024-04-18T11:40:46.665186Z",
          "shell.execute_reply": "2024-04-18T11:40:46.664276Z",
          "shell.execute_reply.started": "2024-04-18T11:40:46.660648Z"
        },
        "id": "p1Zu-2cax3jk",
        "trusted": true
      },
      "outputs": [],
      "source": [
        "train_loader = DataLoader(dataset=MyDataset(b_pad_inputs, b_pad_outputs), batch_size=batch_size, shuffle=True)"
      ]
    },
    {
      "cell_type": "code",
      "execution_count": null,
      "metadata": {
        "execution": {
          "iopub.execute_input": "2024-04-18T11:40:48.870052Z",
          "iopub.status.busy": "2024-04-18T11:40:48.869708Z",
          "iopub.status.idle": "2024-04-18T12:09:35.649302Z",
          "shell.execute_reply": "2024-04-18T12:09:35.648420Z",
          "shell.execute_reply.started": "2024-04-18T11:40:48.870024Z"
        },
        "id": "5gWh1BiLx3jk",
        "outputId": "8e2007f8-9677-4d8a-fb5c-8f08d549c064",
        "trusted": true
      },
      "outputs": [
        {
          "name": "stderr",
          "output_type": "stream",
          "text": [
            "Training: 100%|██████████| 469/469 [02:53<00:00,  2.71it/s]\n"
          ]
        },
        {
          "name": "stdout",
          "output_type": "stream",
          "text": [
            "Epoch 1/10: Train Loss: 1.3884\n"
          ]
        },
        {
          "name": "stderr",
          "output_type": "stream",
          "text": [
            "Training: 100%|██████████| 469/469 [02:52<00:00,  2.71it/s]\n"
          ]
        },
        {
          "name": "stdout",
          "output_type": "stream",
          "text": [
            "Epoch 2/10: Train Loss: 1.1473\n"
          ]
        },
        {
          "name": "stderr",
          "output_type": "stream",
          "text": [
            "Training: 100%|██████████| 469/469 [02:52<00:00,  2.72it/s]\n"
          ]
        },
        {
          "name": "stdout",
          "output_type": "stream",
          "text": [
            "Epoch 3/10: Train Loss: 1.0659\n"
          ]
        },
        {
          "name": "stderr",
          "output_type": "stream",
          "text": [
            "Training: 100%|██████████| 469/469 [02:52<00:00,  2.72it/s]\n"
          ]
        },
        {
          "name": "stdout",
          "output_type": "stream",
          "text": [
            "Epoch 4/10: Train Loss: 1.0165\n"
          ]
        },
        {
          "name": "stderr",
          "output_type": "stream",
          "text": [
            "Training: 100%|██████████| 469/469 [02:52<00:00,  2.72it/s]\n"
          ]
        },
        {
          "name": "stdout",
          "output_type": "stream",
          "text": [
            "Epoch 5/10: Train Loss: 0.9847\n"
          ]
        },
        {
          "name": "stderr",
          "output_type": "stream",
          "text": [
            "Training: 100%|██████████| 469/469 [02:52<00:00,  2.72it/s]\n"
          ]
        },
        {
          "name": "stdout",
          "output_type": "stream",
          "text": [
            "Epoch 6/10: Train Loss: 0.9613\n"
          ]
        },
        {
          "name": "stderr",
          "output_type": "stream",
          "text": [
            "Training: 100%|██████████| 469/469 [02:52<00:00,  2.72it/s]\n"
          ]
        },
        {
          "name": "stdout",
          "output_type": "stream",
          "text": [
            "Epoch 7/10: Train Loss: 0.9425\n"
          ]
        },
        {
          "name": "stderr",
          "output_type": "stream",
          "text": [
            "Training: 100%|██████████| 469/469 [02:52<00:00,  2.71it/s]\n"
          ]
        },
        {
          "name": "stdout",
          "output_type": "stream",
          "text": [
            "Epoch 8/10: Train Loss: 0.9270\n"
          ]
        },
        {
          "name": "stderr",
          "output_type": "stream",
          "text": [
            "Training: 100%|██████████| 469/469 [02:52<00:00,  2.72it/s]\n"
          ]
        },
        {
          "name": "stdout",
          "output_type": "stream",
          "text": [
            "Epoch 9/10: Train Loss: 0.9141\n"
          ]
        },
        {
          "name": "stderr",
          "output_type": "stream",
          "text": [
            "Training: 100%|██████████| 469/469 [02:52<00:00,  2.72it/s]"
          ]
        },
        {
          "name": "stdout",
          "output_type": "stream",
          "text": [
            "Epoch 10/10: Train Loss: 0.9029\n"
          ]
        },
        {
          "name": "stderr",
          "output_type": "stream",
          "text": [
            "\n"
          ]
        }
      ],
      "source": [
        "model.train()\n",
        "for epoch in range(num_epochs):\n",
        "    running_loss = 0.0\n",
        "    for batch_input, batch_output in tqdm(train_loader, total = len(train_loader), desc=\"Training\"):\n",
        "        batch_input, batch_output = batch_input.to(device), batch_output.to(device)\n",
        "        optimizer.zero_grad()\n",
        "        output = model(batch_input)\n",
        "        output_flat = output[0].view(-1, output[0].size(-1))\n",
        "        target_flat = batch_output.view(-1)\n",
        "        loss = criterion(output_flat, target_flat)\n",
        "        loss.backward()\n",
        "        optimizer.step()\n",
        "        running_loss += loss.item() * batch_input.size(0)\n",
        "    epoch_train_loss = running_loss / len(train_loader.dataset)\n",
        "    print(f\"Epoch {epoch + 1}/{num_epochs}: Train Loss: {epoch_train_loss:.4f}\")\n",
        "\n",
        "\n",
        "model_path = '/kaggle/working/backward1.pt'\n",
        "torch.save(model.state_dict(), model_path)"
      ]
    },
    {
      "cell_type": "code",
      "execution_count": null,
      "metadata": {
        "execution": {
          "iopub.execute_input": "2024-04-20T13:24:21.322210Z",
          "iopub.status.busy": "2024-04-20T13:24:21.321922Z",
          "iopub.status.idle": "2024-04-20T13:24:21.331803Z",
          "shell.execute_reply": "2024-04-20T13:24:21.330329Z",
          "shell.execute_reply.started": "2024-04-20T13:24:21.322185Z"
        },
        "id": "5O3LDR6Rx3jk",
        "trusted": true
      },
      "outputs": [],
      "source": [
        "dict_path = \"/kaggle/working/word2idx.pkl\"\n",
        "with open(dict_path, 'wb') as file:\n",
        "    pickle.dump(word2idx, file)"
      ]
    },
    {
      "cell_type": "markdown",
      "metadata": {
        "id": "q16hlyBIx3jk"
      },
      "source": [
        "## Downstream Classification"
      ]
    },
    {
      "cell_type": "code",
      "execution_count": null,
      "metadata": {
        "execution": {
          "iopub.execute_input": "2024-04-20T13:24:25.535301Z",
          "iopub.status.busy": "2024-04-20T13:24:25.534970Z",
          "iopub.status.idle": "2024-04-20T13:24:26.820628Z",
          "shell.execute_reply": "2024-04-20T13:24:26.819883Z",
          "shell.execute_reply.started": "2024-04-20T13:24:25.535277Z"
        },
        "id": "bh6h7ZpZx3jk",
        "trusted": true
      },
      "outputs": [],
      "source": [
        "import torch\n",
        "import torch.nn as nn\n",
        "import pandas as pd\n",
        "import numpy as np\n",
        "import string\n",
        "import torch.nn.utils.rnn as padfunc\n",
        "from sklearn.metrics import accuracy_score, precision_score, recall_score, f1_score, confusion_matrix\n",
        "from torch.utils.data import Dataset, DataLoader\n",
        "from tqdm import tqdm"
      ]
    },
    {
      "cell_type": "code",
      "execution_count": null,
      "metadata": {
        "execution": {
          "iopub.execute_input": "2024-04-20T13:24:26.822533Z",
          "iopub.status.busy": "2024-04-20T13:24:26.822144Z",
          "iopub.status.idle": "2024-04-20T13:24:26.835665Z",
          "shell.execute_reply": "2024-04-20T13:24:26.834645Z",
          "shell.execute_reply.started": "2024-04-20T13:24:26.822508Z"
        },
        "id": "394zkffSx3jk",
        "trusted": true
      },
      "outputs": [],
      "source": [
        "class DownstreamModel(nn.Module):\n",
        "    def __init__(self, input_dim, hidden_dim, num_classes, num_layers, forwardLM, backwardLM, num_lam):\n",
        "        super(DownstreamModel, self).__init__()\n",
        "        self.num_lam = num_lam\n",
        "        self.lambdas = nn.Parameter(torch.rand(self.num_lam))\n",
        "        self.forwardLM = forwardLM\n",
        "        self.backwardLM = backwardLM\n",
        "        self.layer = nn.LSTM(input_dim, hidden_dim, num_layers=num_layers, batch_first=True)\n",
        "        self.output = nn.Linear(hidden_dim, num_classes)\n",
        "        self.softmax = nn.Softmax(dim=1)\n",
        "        for param in self.forwardLM.parameters():\n",
        "            param.requires_grad = False\n",
        "        for param in self.backwardLM.parameters():\n",
        "            param.requires_grad = False\n",
        "\n",
        "    def forward(self, xf, xb):\n",
        "        fout = self.forwardLM(xf)\n",
        "        bout = self.backwardLM(xb)\n",
        "        fupout = [0,0,0]\n",
        "        bupout = [0,0,0]\n",
        "        fupout[1], bupout[1], fupout[2], bupout[2] = fout[2][:, 1:, :], torch.flip(bout[2][:, 1:, :], dims=[1]), fout[3][:, 1:, :], torch.flip(bout[3][:, 1:, :], dims=[1])\n",
        "        fupout[0], bupout[0] = fout[1][:, 1:, :], torch.flip(bout[1][:, 1:, :], dims=[1])\n",
        "        ini_embed = torch.cat((fupout[0], bupout[0]), dim=2)\n",
        "        hn1, hn2 = torch.cat((fupout[1], bupout[1]), dim=2), torch.cat((fupout[2], bupout[2]), dim=2)\n",
        "        final_embed = (self.lambdas[0] * ini_embed) + (self.lambdas[1] * hn1) + (self.lambdas[2] * hn2)\n",
        "        out, _ = self.layer(final_embed)\n",
        "        out = out.mean(dim = 1)\n",
        "        out = self.output(out)\n",
        "        return out"
      ]
    },
    {
      "cell_type": "code",
      "execution_count": null,
      "metadata": {
        "execution": {
          "iopub.execute_input": "2024-04-20T13:24:26.837015Z",
          "iopub.status.busy": "2024-04-20T13:24:26.836650Z",
          "iopub.status.idle": "2024-04-20T13:24:26.850517Z",
          "shell.execute_reply": "2024-04-20T13:24:26.849576Z",
          "shell.execute_reply.started": "2024-04-20T13:24:26.836978Z"
        },
        "id": "w27vUl3lx3jl",
        "trusted": true
      },
      "outputs": [],
      "source": [
        "class ForwardLM(nn.Module):\n",
        "    def __init__(self, vocab_size, embedding_dim, hidden_dim, dropout_prob):\n",
        "        super(ForwardLM, self).__init__()\n",
        "        self.vocab_size = vocab_size\n",
        "        self.embed_dim = embedding_dim\n",
        "        self.hidden_dim = hidden_dim\n",
        "        self.dropout = nn.Dropout(dropout_prob)\n",
        "\n",
        "        self.embed_layer = nn.Embedding(vocab_size, embedding_dim)\n",
        "        self.layer1 = nn.LSTM(embedding_dim, hidden_dim, batch_first = True)\n",
        "        self.layer2 = nn.LSTM(hidden_dim, hidden_dim, batch_first = True)\n",
        "        self.fc = nn.Linear(hidden_dim, vocab_size)\n",
        "\n",
        "    def forward(self, x):\n",
        "        embed = self.embed_layer(x)\n",
        "        lstm1, _ = self.layer1(embed)\n",
        "        lstm1 = self.dropout(lstm1)\n",
        "        lstm2, _ = self.layer2(lstm1)\n",
        "        lstm2 = self.dropout(lstm2)\n",
        "        output = self.fc(lstm2)\n",
        "        return output, lstm1, lstm2, embed\n",
        "\n",
        "\n",
        "class BackwardLM(nn.Module):\n",
        "    def __init__(self, vocab_size, embedding_dim, hidden_dim, dropout_prob):\n",
        "        super(BackwardLM, self).__init__()\n",
        "        self.vocab_size = vocab_size\n",
        "        self.embed_dim = embedding_dim\n",
        "        self.hidden_dim = hidden_dim\n",
        "        self.dropout = nn.Dropout(dropout_prob)\n",
        "\n",
        "        self.embed_layer = nn.Embedding(vocab_size, embedding_dim)\n",
        "        self.layer1 = nn.LSTM(embedding_dim, hidden_dim, batch_first = True)\n",
        "        self.layer2 = nn.LSTM(hidden_dim, hidden_dim, batch_first = True)\n",
        "        self.fc = nn.Linear(hidden_dim, vocab_size)\n",
        "\n",
        "    def forward(self, x):\n",
        "        embed = self.embed_layer(x)\n",
        "        lstm1, _ = self.layer1(embed)\n",
        "        lstm1 = self.dropout(lstm1)\n",
        "        lstm2, _ = self.layer2(lstm1)\n",
        "        lstm2 = self.dropout(lstm2)\n",
        "        output = self.fc(lstm2)\n",
        "        return output, lstm1, lstm2, embed"
      ]
    },
    {
      "cell_type": "code",
      "execution_count": null,
      "metadata": {
        "execution": {
          "iopub.execute_input": "2024-04-20T13:24:26.852690Z",
          "iopub.status.busy": "2024-04-20T13:24:26.852375Z",
          "iopub.status.idle": "2024-04-20T13:24:26.864672Z",
          "shell.execute_reply": "2024-04-20T13:24:26.863912Z",
          "shell.execute_reply.started": "2024-04-20T13:24:26.852667Z"
        },
        "id": "lusY_nkxx3jl",
        "trusted": true
      },
      "outputs": [],
      "source": [
        "class MyDataset(Dataset):\n",
        "    def __init__(self, embeddings, labels):\n",
        "        self.embeddings = embeddings\n",
        "        self.labels = labels\n",
        "    def __len__(self):\n",
        "        return len(self.embeddings)\n",
        "    def __getitem__(self, index):\n",
        "        return self.embeddings[index], self.labels[index]"
      ]
    },
    {
      "cell_type": "code",
      "execution_count": null,
      "metadata": {
        "execution": {
          "iopub.execute_input": "2024-04-20T13:24:26.866562Z",
          "iopub.status.busy": "2024-04-20T13:24:26.865993Z",
          "iopub.status.idle": "2024-04-20T13:24:26.900503Z",
          "shell.execute_reply": "2024-04-20T13:24:26.899534Z",
          "shell.execute_reply.started": "2024-04-20T13:24:26.866530Z"
        },
        "id": "Um76-ef1x3jl",
        "outputId": "028e3c35-12b9-4f24-c015-2115655c7929",
        "trusted": true
      },
      "outputs": [
        {
          "name": "stdout",
          "output_type": "stream",
          "text": [
            "Using cuda device\n"
          ]
        }
      ],
      "source": [
        "device = \"cuda\" if torch.cuda.is_available() else \"cpu\"\n",
        "print(f\"Using {device} device\")"
      ]
    },
    {
      "cell_type": "code",
      "execution_count": null,
      "metadata": {
        "execution": {
          "iopub.execute_input": "2024-04-20T13:24:27.039549Z",
          "iopub.status.busy": "2024-04-20T13:24:27.038713Z",
          "iopub.status.idle": "2024-04-20T13:24:27.050944Z",
          "shell.execute_reply": "2024-04-20T13:24:27.049985Z",
          "shell.execute_reply.started": "2024-04-20T13:24:27.039518Z"
        },
        "id": "JMWvB0qPx3jl",
        "trusted": true
      },
      "outputs": [],
      "source": [
        "dict_path = '/kaggle/working/word2idx.pkl'\n",
        "\n",
        "with open(dict_path, 'rb') as file:\n",
        "    word2idx = pickle.load(file)"
      ]
    },
    {
      "cell_type": "code",
      "execution_count": null,
      "metadata": {
        "execution": {
          "iopub.execute_input": "2024-04-20T13:24:28.070066Z",
          "iopub.status.busy": "2024-04-20T13:24:28.069332Z",
          "iopub.status.idle": "2024-04-20T13:24:28.434406Z",
          "shell.execute_reply": "2024-04-20T13:24:28.433471Z",
          "shell.execute_reply.started": "2024-04-20T13:24:28.070031Z"
        },
        "id": "J5hpcwaFx3jl",
        "trusted": true
      },
      "outputs": [],
      "source": [
        "dataset = np.asarray(pd.read_csv('/kaggle/input/mydataset/train.csv'))\n",
        "test_dataset = np.asarray(pd.read_csv('/kaggle/input/mydataset/test.csv'))"
      ]
    },
    {
      "cell_type": "code",
      "execution_count": null,
      "metadata": {
        "execution": {
          "iopub.execute_input": "2024-04-20T13:24:28.437559Z",
          "iopub.status.busy": "2024-04-20T13:24:28.437267Z",
          "iopub.status.idle": "2024-04-20T13:24:33.096776Z",
          "shell.execute_reply": "2024-04-20T13:24:33.095888Z",
          "shell.execute_reply.started": "2024-04-20T13:24:28.437534Z"
        },
        "id": "0qHR39O2x3jl",
        "trusted": true
      },
      "outputs": [],
      "source": [
        "translation_table = str.maketrans('', '', string.punctuation)\n",
        "inputs, outputs = [], []\n",
        "test_inputs, test_outputs = [], []\n",
        "for index, sent in dataset:\n",
        "    sent = sent.replace('-', ' ').replace('\\\\', ' ')\n",
        "    sent = sent.translate(translation_table)\n",
        "    sent = sent.split()\n",
        "    sent = [word.lower() for word in sent if word.isalpha()]\n",
        "    sent = ['<sos>'] + sent + ['<eos>']\n",
        "    sent = [word2idx.get(word, word2idx['<unk>']) for word in sent]\n",
        "    inputs.append(sent)\n",
        "    outputs.append(torch.tensor(index - 1, dtype=torch.long))\n",
        "\n",
        "for index, sent in test_dataset:\n",
        "    sent = sent.replace('-', ' ').replace('\\\\', ' ')\n",
        "    sent = sent.translate(translation_table)\n",
        "    sent = sent.split()\n",
        "    sent = [word.lower() for word in sent if word.isalpha()]\n",
        "    sent = ['<sos>'] + sent + ['<eos>']\n",
        "    sent = [word2idx.get(word, word2idx['<unk>']) for word in sent]\n",
        "    test_inputs.append(sent)\n",
        "    test_outputs.append(torch.tensor(index - 1, dtype=torch.long))"
      ]
    },
    {
      "cell_type": "code",
      "execution_count": null,
      "metadata": {
        "execution": {
          "iopub.execute_input": "2024-04-20T13:24:33.098453Z",
          "iopub.status.busy": "2024-04-20T13:24:33.098150Z",
          "iopub.status.idle": "2024-04-20T13:24:37.385449Z",
          "shell.execute_reply": "2024-04-20T13:24:37.383734Z",
          "shell.execute_reply.started": "2024-04-20T13:24:33.098428Z"
        },
        "id": "_YmoNj64x3jl",
        "trusted": true
      },
      "outputs": [],
      "source": [
        "finputs, binputs = [], []\n",
        "for inp in inputs:\n",
        "    f = inp[:-1]\n",
        "    b = inp[1:]\n",
        "    b = b[::-1]\n",
        "    finputs.append(torch.tensor(f))\n",
        "    binputs.append(torch.tensor(b))"
      ]
    },
    {
      "cell_type": "code",
      "execution_count": null,
      "metadata": {
        "execution": {
          "iopub.execute_input": "2024-04-20T13:24:37.387596Z",
          "iopub.status.busy": "2024-04-20T13:24:37.386943Z",
          "iopub.status.idle": "2024-04-20T13:24:38.589787Z",
          "shell.execute_reply": "2024-04-20T13:24:38.588770Z",
          "shell.execute_reply.started": "2024-04-20T13:24:37.387560Z"
        },
        "id": "MF5v-WGfx3jl",
        "trusted": true
      },
      "outputs": [],
      "source": [
        "pad_finputs, pad_binputs = padfunc.pad_sequence(finputs, batch_first=True), padfunc.pad_sequence(binputs, batch_first=True)"
      ]
    },
    {
      "cell_type": "code",
      "execution_count": null,
      "metadata": {
        "execution": {
          "iopub.execute_input": "2024-04-20T13:24:38.593251Z",
          "iopub.status.busy": "2024-04-20T13:24:38.592555Z",
          "iopub.status.idle": "2024-04-20T13:24:39.393871Z",
          "shell.execute_reply": "2024-04-20T13:24:39.392953Z",
          "shell.execute_reply.started": "2024-04-20T13:24:38.593214Z"
        },
        "id": "ikeKOPISx3jl",
        "trusted": true
      },
      "outputs": [],
      "source": [
        "com_inputs = list(zip(pad_finputs, pad_binputs))"
      ]
    },
    {
      "cell_type": "code",
      "execution_count": null,
      "metadata": {
        "execution": {
          "iopub.execute_input": "2024-04-20T13:24:39.395444Z",
          "iopub.status.busy": "2024-04-20T13:24:39.395075Z",
          "iopub.status.idle": "2024-04-20T13:24:40.335467Z",
          "shell.execute_reply": "2024-04-20T13:24:40.334548Z",
          "shell.execute_reply.started": "2024-04-20T13:24:39.395408Z"
        },
        "id": "r0ESjMNvx3jm",
        "outputId": "9782cc78-134f-4d70-c838-de7981eb2a8c",
        "trusted": true
      },
      "outputs": [
        {
          "data": {
            "text/plain": [
              "<All keys matched successfully>"
            ]
          },
          "execution_count": 16,
          "metadata": {},
          "output_type": "execute_result"
        }
      ],
      "source": [
        "fpath = '/kaggle/input/forwardlm/pytorch/forward1/1/forward1.pt'\n",
        "fmodel = ForwardLM(len(vocab) + 1, 300, 300, 0.5)\n",
        "fmodel.load_state_dict(torch.load(fpath))"
      ]
    },
    {
      "cell_type": "code",
      "execution_count": null,
      "metadata": {
        "execution": {
          "iopub.execute_input": "2024-04-20T13:24:40.337555Z",
          "iopub.status.busy": "2024-04-20T13:24:40.336963Z",
          "iopub.status.idle": "2024-04-20T13:24:41.227485Z",
          "shell.execute_reply": "2024-04-20T13:24:41.226419Z",
          "shell.execute_reply.started": "2024-04-20T13:24:40.337521Z"
        },
        "id": "6u0FbCPzx3jm",
        "outputId": "932f5022-5e08-44a2-af84-517977ebf923",
        "trusted": true
      },
      "outputs": [
        {
          "data": {
            "text/plain": [
              "<All keys matched successfully>"
            ]
          },
          "execution_count": 17,
          "metadata": {},
          "output_type": "execute_result"
        }
      ],
      "source": [
        "bpath = '/kaggle/input/backwardlm/pytorch/backward1/1/backward1.pt'\n",
        "bmodel = BackwardLM(len(vocab) + 1, 300, 300, 0.5)\n",
        "bmodel.load_state_dict(torch.load(bpath, map_location=device))"
      ]
    },
    {
      "cell_type": "code",
      "execution_count": null,
      "metadata": {
        "execution": {
          "iopub.execute_input": "2024-04-20T13:24:41.228923Z",
          "iopub.status.busy": "2024-04-20T13:24:41.228609Z",
          "iopub.status.idle": "2024-04-20T13:24:43.962067Z",
          "shell.execute_reply": "2024-04-20T13:24:43.961079Z",
          "shell.execute_reply.started": "2024-04-20T13:24:41.228897Z"
        },
        "id": "gD7g1qTdx3jm",
        "trusted": true
      },
      "outputs": [],
      "source": [
        "num_epochs = 5\n",
        "batch_size = 256\n",
        "learning_rate = 0.001\n",
        "\n",
        "model = DownstreamModel(600, 300, 4, 1, fmodel, bmodel, 3)\n",
        "criterion = nn.CrossEntropyLoss()\n",
        "optimizer = torch.optim.Adam(model.parameters(), lr = learning_rate)\n",
        "model = model.to(device)"
      ]
    },
    {
      "cell_type": "code",
      "execution_count": null,
      "metadata": {
        "execution": {
          "iopub.execute_input": "2024-04-20T13:24:43.963642Z",
          "iopub.status.busy": "2024-04-20T13:24:43.963249Z",
          "iopub.status.idle": "2024-04-20T13:24:43.968591Z",
          "shell.execute_reply": "2024-04-20T13:24:43.967576Z",
          "shell.execute_reply.started": "2024-04-20T13:24:43.963618Z"
        },
        "id": "qqIsi2bex3jm",
        "trusted": true
      },
      "outputs": [],
      "source": [
        "train_loader = DataLoader(dataset=MyDataset(com_inputs, outputs), batch_size=batch_size, shuffle=True)"
      ]
    },
    {
      "cell_type": "code",
      "execution_count": null,
      "metadata": {
        "execution": {
          "iopub.execute_input": "2024-04-20T13:27:14.461589Z",
          "iopub.status.busy": "2024-04-20T13:27:14.461230Z",
          "iopub.status.idle": "2024-04-20T13:40:27.932310Z",
          "shell.execute_reply": "2024-04-20T13:40:27.931441Z",
          "shell.execute_reply.started": "2024-04-20T13:27:14.461561Z"
        },
        "id": "liZcMK_9x3jm",
        "outputId": "ce0f0de9-9689-4977-c1a2-f75c864abb0d",
        "trusted": true
      },
      "outputs": [
        {
          "name": "stderr",
          "output_type": "stream",
          "text": [
            "Training: 100%|██████████| 469/469 [02:38<00:00,  2.95it/s]\n"
          ]
        },
        {
          "name": "stdout",
          "output_type": "stream",
          "text": [
            "Epoch 1/5: Train Loss: 1.1066\n"
          ]
        },
        {
          "name": "stderr",
          "output_type": "stream",
          "text": [
            "Training: 100%|██████████| 469/469 [02:38<00:00,  2.96it/s]\n"
          ]
        },
        {
          "name": "stdout",
          "output_type": "stream",
          "text": [
            "Epoch 2/5: Train Loss: 0.6576\n"
          ]
        },
        {
          "name": "stderr",
          "output_type": "stream",
          "text": [
            "Training: 100%|██████████| 469/469 [02:38<00:00,  2.96it/s]\n"
          ]
        },
        {
          "name": "stdout",
          "output_type": "stream",
          "text": [
            "Epoch 3/5: Train Loss: 0.5364\n"
          ]
        },
        {
          "name": "stderr",
          "output_type": "stream",
          "text": [
            "Training: 100%|██████████| 469/469 [02:38<00:00,  2.96it/s]\n"
          ]
        },
        {
          "name": "stdout",
          "output_type": "stream",
          "text": [
            "Epoch 4/5: Train Loss: 0.4735\n"
          ]
        },
        {
          "name": "stderr",
          "output_type": "stream",
          "text": [
            "Training: 100%|██████████| 469/469 [02:38<00:00,  2.96it/s]"
          ]
        },
        {
          "name": "stdout",
          "output_type": "stream",
          "text": [
            "Epoch 5/5: Train Loss: 0.4338\n"
          ]
        },
        {
          "name": "stderr",
          "output_type": "stream",
          "text": [
            "\n"
          ]
        }
      ],
      "source": [
        "model.train()\n",
        "for epoch in range(num_epochs):\n",
        "    running_loss = 0.0\n",
        "    for batch_input, batch_output in tqdm(train_loader, total = len(train_loader), desc=\"Training\"):\n",
        "        batch_output = batch_output.to(device)\n",
        "        batch_input_0 = batch_input[0].to(device)\n",
        "        batch_input_1 = batch_input[1].to(device)\n",
        "        optimizer.zero_grad()\n",
        "        model_output = model(batch_input_0, batch_input_1)\n",
        "        loss = criterion(model_output, batch_output)\n",
        "        loss.backward()\n",
        "        optimizer.step()\n",
        "        running_loss += loss.item() * batch_input_0.size(0)\n",
        "    epoch_train_loss = running_loss / len(train_loader.dataset)\n",
        "    print(f\"Epoch {epoch + 1}/{num_epochs}: Train Loss: {epoch_train_loss:.4f}\")\n",
        "\n",
        "model_path = '/kaggle/working/classifier2.pt'\n",
        "torch.save(model.state_dict(), model_path)"
      ]
    },
    {
      "cell_type": "code",
      "execution_count": null,
      "metadata": {
        "execution": {
          "iopub.execute_input": "2024-04-20T13:45:35.468099Z",
          "iopub.status.busy": "2024-04-20T13:45:35.467716Z",
          "iopub.status.idle": "2024-04-20T13:45:35.747260Z",
          "shell.execute_reply": "2024-04-20T13:45:35.746475Z",
          "shell.execute_reply.started": "2024-04-20T13:45:35.468070Z"
        },
        "id": "QLlrKbC_x3jm",
        "trusted": true
      },
      "outputs": [],
      "source": [
        "test_finputs, test_binputs = [], []\n",
        "for inp in test_inputs:\n",
        "    f = inp[:-1]\n",
        "    b = inp[1:]\n",
        "    b = b[::-1]\n",
        "    test_finputs.append(torch.tensor(f))\n",
        "    test_binputs.append(torch.tensor(b))"
      ]
    },
    {
      "cell_type": "code",
      "execution_count": null,
      "metadata": {
        "execution": {
          "iopub.execute_input": "2024-04-20T13:45:35.748920Z",
          "iopub.status.busy": "2024-04-20T13:45:35.748626Z",
          "iopub.status.idle": "2024-04-20T13:45:35.828586Z",
          "shell.execute_reply": "2024-04-20T13:45:35.827759Z",
          "shell.execute_reply.started": "2024-04-20T13:45:35.748895Z"
        },
        "id": "eFslxzO7x3jm",
        "trusted": true
      },
      "outputs": [],
      "source": [
        "test_pad_finputs, test_pad_binputs = padfunc.pad_sequence(test_finputs, batch_first=True), padfunc.pad_sequence(test_binputs, batch_first=True)"
      ]
    },
    {
      "cell_type": "code",
      "execution_count": null,
      "metadata": {
        "execution": {
          "iopub.execute_input": "2024-04-20T13:45:35.830344Z",
          "iopub.status.busy": "2024-04-20T13:45:35.830091Z",
          "iopub.status.idle": "2024-04-20T13:45:35.853239Z",
          "shell.execute_reply": "2024-04-20T13:45:35.852534Z",
          "shell.execute_reply.started": "2024-04-20T13:45:35.830322Z"
        },
        "id": "NnbS7md_x3jm",
        "trusted": true
      },
      "outputs": [],
      "source": [
        "test_com_inputs = list(zip(test_pad_finputs, test_pad_binputs))"
      ]
    },
    {
      "cell_type": "code",
      "execution_count": null,
      "metadata": {
        "execution": {
          "iopub.execute_input": "2024-04-20T13:45:36.760189Z",
          "iopub.status.busy": "2024-04-20T13:45:36.759832Z",
          "iopub.status.idle": "2024-04-20T13:45:36.764875Z",
          "shell.execute_reply": "2024-04-20T13:45:36.763868Z",
          "shell.execute_reply.started": "2024-04-20T13:45:36.760163Z"
        },
        "id": "ACFqCvMPx3j1",
        "trusted": true
      },
      "outputs": [],
      "source": [
        "test_loader = DataLoader(dataset=MyDataset(test_com_inputs, test_outputs), batch_size=batch_size, shuffle=True)"
      ]
    },
    {
      "cell_type": "code",
      "execution_count": null,
      "metadata": {
        "execution": {
          "iopub.execute_input": "2024-04-20T13:45:37.475915Z",
          "iopub.status.busy": "2024-04-20T13:45:37.475537Z",
          "iopub.status.idle": "2024-04-20T13:45:45.299970Z",
          "shell.execute_reply": "2024-04-20T13:45:45.299067Z",
          "shell.execute_reply.started": "2024-04-20T13:45:37.475886Z"
        },
        "id": "j5subN5Mx3j1",
        "outputId": "d5d59e81-78f5-467d-a013-e18578b9dca1",
        "trusted": true
      },
      "outputs": [
        {
          "name": "stderr",
          "output_type": "stream",
          "text": [
            "Testing: 100%|██████████| 30/30 [00:07<00:00,  3.84it/s]\n"
          ]
        }
      ],
      "source": [
        "model.eval()\n",
        "predicted_labels = []\n",
        "true_labels = []\n",
        "with torch.no_grad():\n",
        "    for batch_input, batch_output in tqdm(test_loader, total=len(test_loader), desc=\"Testing\"):\n",
        "        batch_output = batch_output.to(device)\n",
        "        batch_input_0 = batch_input[0].to(device)\n",
        "        batch_input_1 = batch_input[1].to(device)\n",
        "        model_output = model(batch_input_0, batch_input_1)\n",
        "        pred = model_output.argmax(dim=1)\n",
        "        predicted_labels.extend(pred.cpu().numpy())\n",
        "        true_labels.extend(batch_output.cpu().numpy())"
      ]
    },
    {
      "cell_type": "code",
      "execution_count": null,
      "metadata": {
        "execution": {
          "iopub.execute_input": "2024-04-20T13:20:02.301027Z",
          "iopub.status.busy": "2024-04-20T13:20:02.300648Z",
          "iopub.status.idle": "2024-04-20T13:20:02.352789Z",
          "shell.execute_reply": "2024-04-20T13:20:02.351789Z",
          "shell.execute_reply.started": "2024-04-20T13:20:02.300997Z"
        },
        "id": "HGAlcNE5x3j1",
        "outputId": "818e3bbb-30b1-4abf-cd45-873f44dfdafc",
        "trusted": true
      },
      "outputs": [
        {
          "name": "stdout",
          "output_type": "stream",
          "text": [
            "Accuracy: 0.8763157894736842\n",
            "Precision: 0.8785693988774963\n",
            "Recall: 0.8763157894736842\n",
            "F1 Score: 0.8763736711184595\n",
            "Confusion Matrix:\n",
            " [[1625   82  123   70]\n",
            " [  36 1811   36   17]\n",
            " [  53   29 1675  143]\n",
            " [  54   36  261 1549]]\n"
          ]
        }
      ],
      "source": [
        "accuracy = accuracy_score(true_labels, predicted_labels)\n",
        "precision = precision_score(true_labels, predicted_labels, average='macro')\n",
        "recall = recall_score(true_labels, predicted_labels, average='macro')\n",
        "f1 = f1_score(true_labels, predicted_labels, average='macro')\n",
        "conf_matrix = confusion_matrix(true_labels, predicted_labels)\n",
        "\n",
        "print(\"Accuracy:\", accuracy)\n",
        "print(\"Precision:\", precision)\n",
        "print(\"Recall:\", recall)\n",
        "print(\"F1 Score:\", f1)\n",
        "print(\"Confusion Matrix:\\n\", conf_matrix)"
      ]
    },
    {
      "cell_type": "code",
      "execution_count": null,
      "metadata": {
        "execution": {
          "iopub.execute_input": "2024-04-20T13:26:21.835243Z",
          "iopub.status.busy": "2024-04-20T13:26:21.834569Z",
          "iopub.status.idle": "2024-04-20T13:26:21.839917Z",
          "shell.execute_reply": "2024-04-20T13:26:21.838950Z",
          "shell.execute_reply.started": "2024-04-20T13:26:21.835213Z"
        },
        "id": "mbu6DC9_x3j1",
        "trusted": true
      },
      "outputs": [],
      "source": [
        "for param in model.named_parameters():\n",
        "    if param[0] == 'lambdas':\n",
        "        param[1].requires_grad = False"
      ]
    },
    {
      "cell_type": "code",
      "execution_count": null,
      "metadata": {
        "execution": {
          "iopub.execute_input": "2024-04-20T13:45:52.003795Z",
          "iopub.status.busy": "2024-04-20T13:45:52.003177Z",
          "iopub.status.idle": "2024-04-20T13:45:52.052849Z",
          "shell.execute_reply": "2024-04-20T13:45:52.051840Z",
          "shell.execute_reply.started": "2024-04-20T13:45:52.003759Z"
        },
        "id": "phQGqBJNx3j1",
        "outputId": "20d0d371-6b06-4eea-e249-b8c6838e5435",
        "trusted": true
      },
      "outputs": [
        {
          "name": "stdout",
          "output_type": "stream",
          "text": [
            "Accuracy: 0.8555263157894737\n",
            "Precision: 0.8553084311452964\n",
            "Recall: 0.8555263157894737\n",
            "F1 Score: 0.8548244476494145\n",
            "Confusion Matrix:\n",
            " [[1687   73   69   71]\n",
            " [  60 1779   26   35]\n",
            " [ 158   32 1469  241]\n",
            " [ 106   52  175 1567]]\n"
          ]
        }
      ],
      "source": [
        "accuracy = accuracy_score(true_labels, predicted_labels)\n",
        "precision = precision_score(true_labels, predicted_labels, average='macro')\n",
        "recall = recall_score(true_labels, predicted_labels, average='macro')\n",
        "f1 = f1_score(true_labels, predicted_labels, average='macro')\n",
        "conf_matrix = confusion_matrix(true_labels, predicted_labels)\n",
        "\n",
        "print(\"Accuracy:\", accuracy)\n",
        "print(\"Precision:\", precision)\n",
        "print(\"Recall:\", recall)\n",
        "print(\"F1 Score:\", f1)\n",
        "print(\"Confusion Matrix:\\n\", conf_matrix)"
      ]
    },
    {
      "cell_type": "code",
      "execution_count": null,
      "metadata": {
        "execution": {
          "iopub.execute_input": "2024-04-20T13:21:24.627988Z",
          "iopub.status.busy": "2024-04-20T13:21:24.627219Z",
          "iopub.status.idle": "2024-04-20T13:21:24.633962Z",
          "shell.execute_reply": "2024-04-20T13:21:24.633042Z",
          "shell.execute_reply.started": "2024-04-20T13:21:24.627959Z"
        },
        "id": "J1PDEB0Ax3j1",
        "outputId": "1ab1a6b9-ae07-46ac-8461-f283137d12fe",
        "trusted": true
      },
      "outputs": [
        {
          "data": {
            "text/plain": [
              "DownstreamModel(\n",
              "  (forwardLM): ForwardLM(\n",
              "    (dropout): Dropout(p=0.5, inplace=False)\n",
              "    (embed_layer): Embedding(16616, 300)\n",
              "    (layer1): LSTM(300, 300, batch_first=True)\n",
              "    (layer2): LSTM(300, 300, batch_first=True)\n",
              "    (fc): Linear(in_features=300, out_features=16616, bias=True)\n",
              "  )\n",
              "  (backwardLM): BackwardLM(\n",
              "    (dropout): Dropout(p=0.5, inplace=False)\n",
              "    (embed_layer): Embedding(16616, 300)\n",
              "    (layer1): LSTM(300, 300, batch_first=True)\n",
              "    (layer2): LSTM(300, 300, batch_first=True)\n",
              "    (fc): Linear(in_features=300, out_features=16616, bias=True)\n",
              "  )\n",
              "  (layer): LSTM(600, 300, batch_first=True)\n",
              "  (output): Linear(in_features=300, out_features=4, bias=True)\n",
              "  (softmax): Softmax(dim=1)\n",
              ")"
            ]
          },
          "execution_count": 27,
          "metadata": {},
          "output_type": "execute_result"
        }
      ],
      "source": [
        "model"
      ]
    }
  ],
  "metadata": {
    "colab": {
      "provenance": []
    },
    "kaggle": {
      "accelerator": "gpu",
      "dataSources": [
        {
          "datasetId": 4818059,
          "sourceId": 8161276,
          "sourceType": "datasetVersion"
        },
        {
          "modelInstanceId": 27945,
          "sourceId": 33378,
          "sourceType": "modelInstanceVersion"
        },
        {
          "modelInstanceId": 27946,
          "sourceId": 33379,
          "sourceType": "modelInstanceVersion"
        }
      ],
      "dockerImageVersionId": 30684,
      "isGpuEnabled": true,
      "isInternetEnabled": false,
      "language": "python",
      "sourceType": "notebook"
    },
    "kernelspec": {
      "display_name": "Python 3",
      "language": "python",
      "name": "python3"
    },
    "language_info": {
      "codemirror_mode": {
        "name": "ipython",
        "version": 3
      },
      "file_extension": ".py",
      "mimetype": "text/x-python",
      "name": "python",
      "nbconvert_exporter": "python",
      "pygments_lexer": "ipython3",
      "version": "3.10.13"
    }
  },
  "nbformat": 4,
  "nbformat_minor": 0
}
